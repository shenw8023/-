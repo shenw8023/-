{
 "cells": [
  {
   "cell_type": "markdown",
   "metadata": {},
   "source": [
    "## 总结\n",
    "- 解数独中 判断一个小方块是否合理的代码不会"
   ]
  },
  {
   "cell_type": "code",
   "execution_count": 3,
   "metadata": {},
   "outputs": [],
   "source": [
    "nums = [1,2,3]\n",
    "import copy"
   ]
  },
  {
   "cell_type": "code",
   "execution_count": null,
   "metadata": {},
   "outputs": [],
   "source": [
    "## 回溯模板\n",
    "\n",
    "result = []\n",
    "def backtrace(路径，选择列表):\n",
    "    if 满足条件：\n",
    "        result.append(路径[:])\n",
    "        return \n",
    "    for 选择 in 选择列表：\n",
    "        #做选择\n",
    "        将该选择从选择列表删除\n",
    "        路径.append(选择)\n",
    "        backtrace(路径，新的选择列表)\n",
    "        #撤销选择\n",
    "        路径.pop()\n",
    "        将该选择恢复到选择列表"
   ]
  },
  {
   "cell_type": "code",
   "execution_count": null,
   "metadata": {},
   "outputs": [],
   "source": [
    "##严格按照算法小抄模板写的全排列的代码，注意注释的地方跟数据原地修改有关\n",
    "##这样的写法不是很简洁，其实做了选择后，递归的时候可以直接创建并传入新的选择列表，这样递归回来以后也不需要恢复选择列表\n",
    "\n",
    "## 注意事项：\n",
    "    ## 递归函数的参数如果会原地修改的话，那么注意最顶层调用的时候传入nums，会原地修改nums\n",
    "    ## 满足条件的路径在输出的时候要做拷贝\n",
    "    ## 进入递归之前新的选择列表最好是重新创建\n",
    "\n",
    "class Solution:\n",
    "    def permute(self, nums: List[int]) -> List[List[int]]:\n",
    "        res = []\n",
    "        def backtrace(choice, path):\n",
    "            if len(path) == len(nums): ##这里len(nums)要求nums不会被原地修改\n",
    "                res.append(path[:]) ##切片进行拷贝\n",
    "                return\n",
    "            length = len(choice)\n",
    "            for i in range(length):\n",
    "                # 做选择\n",
    "                c = choice[i]\n",
    "                del choice[i]  #选择列表删除选择\n",
    "                path.append(c) #路径加入选择\n",
    "                backtrace(choice, path)\n",
    "                # 撤销选择\n",
    "                path.pop()     #路径删除选择\n",
    "                choice.insert(i, c) #选择列表恢复该选择\n",
    "               \n",
    "        path = []\n",
    "        \n",
    "        backtrace(nums[:], path) ##nums[:]创建拷贝传到函数内，因为这里会对选择列表做原地修改\n",
    "        return res"
   ]
  },
  {
   "cell_type": "code",
   "execution_count": 1,
   "metadata": {},
   "outputs": [],
   "source": [
    "## 常规回溯算法进行全排列\n",
    "def solution(num):\n",
    "    res = []\n",
    "\n",
    "    def backtrace(choice, path):\n",
    "        if len(path) == len(num):\n",
    "            res.append(path[:])\n",
    "            return\n",
    "        for i in choice:\n",
    "            new_choice = choice[:]\n",
    "            new_choice.remove(i)\n",
    "            path.append(i)\n",
    "            backtrace(new_choice, path)\n",
    "            path.pop()\n",
    "\n",
    "    backtrace(num, [])   \n",
    "    return res"
   ]
  },
  {
   "cell_type": "code",
   "execution_count": 4,
   "metadata": {},
   "outputs": [
    {
     "data": {
      "text/plain": [
       "[[1, 2, 3], [1, 3, 2], [2, 1, 3], [2, 3, 1], [3, 1, 2], [3, 2, 1]]"
      ]
     },
     "execution_count": 4,
     "metadata": {},
     "output_type": "execute_result"
    }
   ],
   "source": [
    "solution(nums)"
   ]
  },
  {
   "cell_type": "markdown",
   "metadata": {},
   "source": [
    "# 子集 组合 排列问题"
   ]
  },
  {
   "cell_type": "markdown",
   "metadata": {},
   "source": [
    "## 回溯算法求子集"
   ]
  },
  {
   "cell_type": "code",
   "execution_count": 3,
   "metadata": {},
   "outputs": [],
   "source": [
    "## 递归方式求子集\n",
    "# 思路：归纳思想：[1,2,3]的子集就是把[1,2]的子集中每个集合再添个3\n",
    "import copy\n",
    "def subset(nums):\n",
    "    if not nums:\n",
    "        return [[]]\n",
    "    n = nums[-1]\n",
    "    sub = subset(nums[:-1])\n",
    "\n",
    "    res = copy.deepcopy(sub)\n",
    "    for i in sub:\n",
    "        new = i + [n]\n",
    "        res.append(new)\n",
    "    return res"
   ]
  },
  {
   "cell_type": "code",
   "execution_count": 4,
   "metadata": {},
   "outputs": [
    {
     "data": {
      "text/plain": [
       "[[], [1], [2], [1, 2], [3], [1, 3], [2, 3], [1, 2, 3]]"
      ]
     },
     "execution_count": 4,
     "metadata": {},
     "output_type": "execute_result"
    }
   ],
   "source": [
    "subset([1,2,3])"
   ]
  },
  {
   "cell_type": "code",
   "execution_count": 12,
   "metadata": {},
   "outputs": [],
   "source": [
    "## 回溯算法求子集\n",
    "## 为了避免重复，采取有序添加，采用start控制位置\n",
    "\n",
    "def subset(nums):\n",
    "    res = []\n",
    "    def backtrace(num, start, path): \n",
    "        p = path[:] ## 输出到结果的内容必须是不可变的，path是list可变对象，在过程中是不断变化的\n",
    "        res.append(p) ##这里没有结束条件\n",
    "        for i in range(start, len(nums)):\n",
    "            path.append(num[i])\n",
    "            backtrace(num, i+1, path)\n",
    "            path.pop()\n",
    "    path = []\n",
    "    backtrace(nums, 0, path)\n",
    "    return res"
   ]
  },
  {
   "cell_type": "code",
   "execution_count": 13,
   "metadata": {},
   "outputs": [
    {
     "data": {
      "text/plain": [
       "[[], [1], [1, 2], [1, 2, 3], [1, 3], [2], [2, 3], [3]]"
      ]
     },
     "execution_count": 13,
     "metadata": {},
     "output_type": "execute_result"
    }
   ],
   "source": [
    "subset([1,2,3])"
   ]
  },
  {
   "cell_type": "code",
   "execution_count": 34,
   "metadata": {},
   "outputs": [],
   "source": [
    "## 4.1.2 回溯算法求组合\n",
    "\n",
    "def combine(n, k):\n",
    "    res = []\n",
    "    nums = [i for i in range(1, n+1)]\n",
    "    def backtrace(nums, start, path):\n",
    "        if len(path) == k:\n",
    "            p = copy.deepcopy(path)\n",
    "            res.append(p)\n",
    "            return   ## 有结束条件的情况一定要及时结束，否则多余计算太多\n",
    "        for i in range(start, len(nums)):\n",
    "            path.append(nums[i])\n",
    "            backtrace(nums, i+1, path)\n",
    "            path.pop()\n",
    "    path = []\n",
    "    backtrace(nums, 0, path)\n",
    "    return res\n",
    "    "
   ]
  },
  {
   "cell_type": "code",
   "execution_count": 38,
   "metadata": {},
   "outputs": [
    {
     "name": "stdout",
     "output_type": "stream",
     "text": [
      "[[1, 2], [1, 3], [1, 4], [2, 3], [2, 4], [3, 4]]\n"
     ]
    }
   ],
   "source": [
    "print(combine(4,2))"
   ]
  },
  {
   "cell_type": "code",
   "execution_count": 41,
   "metadata": {},
   "outputs": [],
   "source": [
    "## 4.1.3 回溯算法解 排列问题\n",
    "\n",
    "def permute(nums):\n",
    "    res = []\n",
    "    def backtrace(choice, path):\n",
    "        if len(path) == len(nums):\n",
    "            p = copy.deepcopy(path)\n",
    "            res.append(p)\n",
    "        \n",
    "        for i in choice:\n",
    "            new_choice = copy.deepcopy(choice)\n",
    "            new_choice.remove(i)\n",
    "            path.append(i)\n",
    "            backtrace(new_choice, path)\n",
    "            path.pop()\n",
    "    path = []\n",
    "    backtrace(nums, path)\n",
    "    return res\n",
    "            "
   ]
  },
  {
   "cell_type": "code",
   "execution_count": 42,
   "metadata": {},
   "outputs": [
    {
     "data": {
      "text/plain": [
       "[[1, 2, 3], [1, 3, 2], [2, 1, 3], [2, 3, 1], [3, 1, 2], [3, 2, 1]]"
      ]
     },
     "execution_count": 42,
     "metadata": {},
     "output_type": "execute_result"
    }
   ],
   "source": [
    "permute([1,2,3])"
   ]
  },
  {
   "cell_type": "code",
   "execution_count": null,
   "metadata": {},
   "outputs": [],
   "source": [
    "## 4.2.2 回溯解决数独问题\n",
    "\n",
    "def backtrace(board, row, col): # 功能：将棋盘board的（row, col）位置填上合适数字\n",
    "    m, n = 9, 9\n",
    "    if col == n: # 穷举到最后一列，就换到下一行重新开始\n",
    "        return backtrace(board, row+1, 0)\n",
    "    if row == m: # 找到一个可行解，结束\n",
    "        return True\n",
    "    \n",
    "    if board[row, col] != '.':  # 跳过有预设数字的位置\n",
    "        return backtrace(board, row, col+1)\n",
    "\n",
    "    for ch in range(1, m+1):\n",
    "        if not isValid(board, row, col, ch):\n",
    "            continue\n",
    "        board[row, col] = str(ch)  # 做选择\n",
    "        backtrace(board, row, col+1)\n",
    "        board[row, col] = '.'   # 撤销选择\n",
    "\n",
    "    return False\n",
    "\n",
    "\n",
    "def isValid(board, row, col, ch):\n",
    "    for i in range(9):\n",
    "        if board[row][i] == ch:\n",
    "            return False\n",
    "        if board[i][col] == ch:\n",
    "            return False\n",
    "        #TODO\n",
    "    for i in range(row//3*3, row//3*3+3):\n",
    "        for j in range(col//3*3, col//3*3+3):\n",
    "            if board[i][j] == ch:\n",
    "                return False\n",
    "    return True\n",
    "\n",
    "\"\"\"\n",
    "\"012 345 678\"\n",
    "row = 7\n",
    "6, 8\n",
    "\"\"\"\n",
    "        "
   ]
  },
  {
   "cell_type": "code",
   "execution_count": 54,
   "metadata": {},
   "outputs": [],
   "source": [
    "## 4.3 回溯算法解决 括号生成\n",
    "\n",
    "#思路：两个性质\n",
    "#1. 一个合法的括号组合，左括号数量==右括号数量\n",
    "#2. 任意一个字符串组合p，必然p[0...i]中左括号的数量大于等于右括号的数量，因为 从左到右匹配时，一直到最后一个位置右括号才匹配完\n",
    "class Solution:\n",
    "    def generateParenthesis(self, n: int) -> List[str]:\n",
    "        res = []\n",
    "\n",
    "        def backtrace(left, right, path):  # 可用的左括号数量为left，可用的右括号数量为right\n",
    "            if left <0 or right<0:\n",
    "                return\n",
    "            if left>right:\n",
    "                return\n",
    "            if left == 0 and right == 0:\n",
    "                res.append(\"\".join(path))\n",
    "                return\n",
    "            \n",
    "            path.append('(')\n",
    "            backtrace(left-1, right, path)\n",
    "            path.pop()\n",
    "\n",
    "            path.append(')')\n",
    "            backtrace(left, right-1, path)\n",
    "            path.pop()\n",
    "        \n",
    "        path = []\n",
    "        backtrace(n, n, path)\n",
    "        return res\n",
    "        "
   ]
  },
  {
   "cell_type": "code",
   "execution_count": 58,
   "metadata": {},
   "outputs": [],
   "source": []
  },
  {
   "cell_type": "markdown",
   "metadata": {},
   "source": [
    "## 4.6 2SUM 问题\n"
   ]
  },
  {
   "cell_type": "code",
   "execution_count": 108,
   "metadata": {},
   "outputs": [],
   "source": [
    "# 4.6.1 通用版 2SUM问题\n",
    "## nums元素无序，存在重复，输出所有和为target的元素对，且不能包含重复项\n",
    "\n",
    "def twoSum(nums, target):\n",
    "    nums_ = sorted(nums)\n",
    "    res = []\n",
    "    lo, hi = 0, len(nums)-1\n",
    "    while lo < hi:\n",
    "        left, right = nums_[lo], nums_[hi]\n",
    "        sum = nums_[lo] + nums_[hi]\n",
    "        if sum < target:\n",
    "            while lo<hi and nums_[lo] == left: #跳过重复\n",
    "                lo+=1\n",
    "        elif sum > target:\n",
    "            while lo<hi and nums_[hi] == right:\n",
    "                hi-=1\n",
    "        else:\n",
    "            res.append((left, right))\n",
    "            while lo<hi and nums_[lo] == left:\n",
    "                lo+=1\n",
    "            while lo<hi and nums_[hi] == right: \n",
    "                hi-=1\n",
    "    return res\n"
   ]
  },
  {
   "cell_type": "code",
   "execution_count": 148,
   "metadata": {},
   "outputs": [],
   "source": [
    "# 3sum 问题\n",
    "\n",
    "def twoSumTarget(nums, start, target):\n",
    "    lo = start ## 重点变化\n",
    "    hi = len(nums)-1\n",
    "    res = []\n",
    "    while lo<hi:\n",
    "        left, right = nums[lo], nums[hi]\n",
    "        sum = nums[lo] + nums[hi]\n",
    "        if sum < target:\n",
    "            while lo<hi and nums[lo]==left:\n",
    "                lo+=1\n",
    "        elif sum > target:\n",
    "            while lo<hi and nums[hi]==right:\n",
    "                hi-=1\n",
    "        else:\n",
    "            res.append((left, right))\n",
    "            while lo<hi and nums[lo]==left:\n",
    "                lo+=1\n",
    "            while lo<hi and nums[hi]==right:\n",
    "                hi-=1\n",
    "    return res\n",
    "\n",
    "\n",
    "def threeSumTarget(nums, target):\n",
    "    nums_ = sorted(nums)\n",
    "    res = []\n",
    "    n = len(nums_)\n",
    "    last = nums_[0]\n",
    "    for i in range(n):\n",
    "        #TODO 跳过第一个数字重复的，这里很关键，思考可以跳过的理由，如果重复项被前一位用到了结果里面，那肯定重复项是不会再产生跟前一项一样的结果，自然可以跳过；如果没被用在结果，就更应该跳过了\n",
    "        if i >0 and nums_[i] == last:\n",
    "            continue\n",
    "    \n",
    "        tuples = twoSumTarget(nums_, i+1, target-nums_[i])\n",
    "     \n",
    "        for t in tuples:\n",
    "            if t:\n",
    "                res.append((nums_[i], *t))\n",
    "\n",
    "        last = nums_[i]\n",
    "    return res      \n"
   ]
  },
  {
   "cell_type": "code",
   "execution_count": 110,
   "metadata": {},
   "outputs": [
    {
     "data": {
      "text/plain": [
       "[(1, 3), (2, 2)]"
      ]
     },
     "execution_count": 110,
     "metadata": {},
     "output_type": "execute_result"
    }
   ],
   "source": [
    "twoSum([1,3,1,2,2,3], 4)"
   ]
  },
  {
   "cell_type": "code",
   "execution_count": 114,
   "metadata": {},
   "outputs": [
    {
     "data": {
      "text/plain": [
       "[(1, 3), (2, 2)]"
      ]
     },
     "execution_count": 114,
     "metadata": {},
     "output_type": "execute_result"
    }
   ],
   "source": [
    "twoSumTarget([1,1,2,2,3,3], 0, 4)"
   ]
  },
  {
   "cell_type": "code",
   "execution_count": 149,
   "metadata": {},
   "outputs": [
    {
     "data": {
      "text/plain": [
       "[(-1, -1, 2), (-1, 0, 1)]"
      ]
     },
     "execution_count": 149,
     "metadata": {},
     "output_type": "execute_result"
    }
   ],
   "source": [
    "\n",
    "threeSumTarget([-4, -1,-1,0,1,2], 0)\n"
   ]
  },
  {
   "cell_type": "code",
   "execution_count": 150,
   "metadata": {},
   "outputs": [
    {
     "data": {
      "text/plain": [
       "[(0, 2, 3), (1, 1, 3), (1, 2, 2)]"
      ]
     },
     "execution_count": 150,
     "metadata": {},
     "output_type": "execute_result"
    }
   ],
   "source": [
    "threeSumTarget([0,1,1,1,2,2,3,3], 5)"
   ]
  },
  {
   "cell_type": "code",
   "execution_count": 153,
   "metadata": {},
   "outputs": [],
   "source": [
    "# 4Sum问题\n",
    "\n",
    "def threeSumTarget(nums, start, target):\n",
    "    nums_ = sorted(nums)\n",
    "    res = []\n",
    "    n = len(nums_)\n",
    "    last = nums_[0]\n",
    "    for i in range(start, n):\n",
    "        if i >0 and nums_[i] == last:\n",
    "            continue\n",
    "    \n",
    "        tuples = twoSumTarget(nums_, i+1, target-nums_[i])\n",
    "        for t in tuples:\n",
    "            if t:\n",
    "                res.append((nums_[i], *t))\n",
    "        last = nums_[i]\n",
    "    return res   \n",
    "\n",
    "\n",
    "def fourSumTarget(nums, target):\n",
    "    nums_ = sorted(nums)\n",
    "    res = []\n",
    "    n = len(nums_)\n",
    "    last=None\n",
    "    for i in range(n):\n",
    "        # 跳过第一位重复项\n",
    "        if i>0 and nums_[i] == last:\n",
    "            continue\n",
    "\n",
    "        tuples = threeSumTarget(nums_, i+1, target-nums_[i])\n",
    "        if tuples:\n",
    "            for t in tuples:\n",
    "                res.append((nums_[i], *t))\n",
    "        \n",
    "        last = nums_[i]\n",
    "\n",
    "    return res\n",
    "\n"
   ]
  },
  {
   "cell_type": "code",
   "execution_count": 155,
   "metadata": {},
   "outputs": [
    {
     "data": {
      "text/plain": [
       "[(-2, -1, 1, 2), (-1, -1, 0, 2)]"
      ]
     },
     "execution_count": 155,
     "metadata": {},
     "output_type": "execute_result"
    }
   ],
   "source": [
    "fourSumTarget([-1,0,1,2,-1,-4,-2], 0)"
   ]
  },
  {
   "cell_type": "code",
   "execution_count": 158,
   "metadata": {},
   "outputs": [],
   "source": [
    "# 统一 nSum问题\n",
    "\n",
    "def nSumTarget(nums, n, start, target):\n",
    "    # 递归函数内认为nums已经是排序的\n",
    "    sz = len(nums)\n",
    "    res = []\n",
    "    if n<2 or sz<n:\n",
    "        return res\n",
    "    \n",
    "    if n == 2:\n",
    "        lo, hi = start, sz-1\n",
    "        while lo<hi:\n",
    "            left, right = nums[lo], nums[hi]\n",
    "            sum = nums[lo] + nums[hi]\n",
    "            if sum < target:\n",
    "                while lo<hi and nums[lo] == left:\n",
    "                    lo += 1\n",
    "            elif sum > target:\n",
    "                while lo<hi and nums[hi] == right:\n",
    "                    hi -=1\n",
    "            else:\n",
    "                res.append((left, right))\n",
    "                while lo<hi and nums[lo] == left:\n",
    "                    lo += 1\n",
    "                while lo<hi and nums[hi] == right:\n",
    "                    hi -=1\n",
    "    else:\n",
    "        last = None\n",
    "        for i in range(start, sz):\n",
    "            if i>start and nums[i] == last:\n",
    "                continue\n",
    "            tuples = nSumTarget(nums, n-1, i+1, target-nums[i])\n",
    "            if tuples:\n",
    "                for t in tuples:\n",
    "                    res.append((nums[i], *t))\n",
    "            last = nums[start]\n",
    "    return res\n",
    "\n"
   ]
  },
  {
   "cell_type": "code",
   "execution_count": 159,
   "metadata": {},
   "outputs": [
    {
     "data": {
      "text/plain": [
       "[(-1, 1, 2, -2), (1, 2, -1, -2)]"
      ]
     },
     "execution_count": 159,
     "metadata": {},
     "output_type": "execute_result"
    }
   ],
   "source": [
    "nSumTarget([-1,0,1,2,-1,-4,-2], 4, 0, 0)"
   ]
  },
  {
   "cell_type": "code",
   "execution_count": null,
   "metadata": {},
   "outputs": [],
   "source": []
  }
 ],
 "metadata": {
  "kernelspec": {
   "display_name": "Python 3.7.8 64-bit",
   "language": "python",
   "name": "python3"
  },
  "language_info": {
   "codemirror_mode": {
    "name": "ipython",
    "version": 3
   },
   "file_extension": ".py",
   "mimetype": "text/x-python",
   "name": "python",
   "nbconvert_exporter": "python",
   "pygments_lexer": "ipython3",
   "version": "3.8.5"
  },
  "orig_nbformat": 4,
  "vscode": {
   "interpreter": {
    "hash": "22582f934e52ee930401435dc2e02187cc44d91f65772ba679acf525477aca3a"
   }
  }
 },
 "nbformat": 4,
 "nbformat_minor": 2
}
