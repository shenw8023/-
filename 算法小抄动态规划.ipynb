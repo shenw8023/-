{
 "cells": [
  {
   "cell_type": "markdown",
   "metadata": {},
   "source": [
    "# 动态规划\n",
    "- 最重要是写出状态转移方程\n",
    "- 首先思考怎么暴力穷举\n",
    "- 然后两种优化思路：\n",
    "    - 带备忘录的递归解法（自顶向下）\n",
    "    - dp数组的迭代解法（自底向上）\n",
    "\n",
    "- 找到变化的状态\n",
    "- 做选择"
   ]
  },
  {
   "cell_type": "markdown",
   "metadata": {},
   "source": [
    "## 题型\n",
    "- 最长递增子序列长， 最大子数组和 使用一维dp\n",
    "- 最长公共子序列，最短编辑距离 使用二维dp\n",
    "- **特别注意***用索引取序列值的时候，是否要-1，因为索引第一位对应空字符，输出的时候也要注意索引取值取不到len(s)\n",
    "\n",
    "## 子序列+最值  = 动态规划\n",
    "- 因为子序列不要求连续，穷举都是指数级复杂度，基本上大概率要用dp优化\n",
    "### 两种模板：\n",
    "- 一个一维dp数组：（dp[i]定义为以nums[i]结尾的目标序列相关值）\n",
    "    - 最长递增子序列\n",
    "    - 最大子数组和\n",
    "\n",
    "- 一个二维dp数组：\n",
    "    - 涉及两个字符串/数组：（dp[i][j]定义为s1[:i], s2[:j]的相关目标值）\n",
    "        - 最长公共子序列\n",
    "        - 最短编辑距离\n",
    "    - 涉及一个字符串/数组：（dp[i][j]定义为s[i:j]相关目标值）\n",
    "        - 最长回文子序列\n",
    "        - 构造回文串的最小插入次数\n"
   ]
  },
  {
   "cell_type": "markdown",
   "metadata": {},
   "source": [
    "# 凑零钱\n",
    "- 给可用的零钱面值列表，目标金额数，问最小多少个零钱能凑出"
   ]
  },
  {
   "cell_type": "code",
   "execution_count": null,
   "metadata": {},
   "outputs": [],
   "source": [
    "# 思路：目标金额不管有多少种凑法，凑的最后一枚肯定是从零钱列表里面选一个出来的（做选择）。\n",
    "# 那么在做选择的时候，子问题就变成了要凑出\"amount-选择\" 这个目标金额的问题\n",
    "\n",
    "class Solution:\n",
    "    def coinChange(self, coins: List[int], amount: int) -> int:\n",
    "        dp = [amount+1 for i in range(amount + 1)]  # 目标金额为i时，最小零钱数为dp[i]，初始化为amount+1等价于无穷大，因为最多只需要amount枚一元硬币能凑出来\n",
    "        dp[0] = 0\n",
    "        for i in range(len(dp)):\n",
    "            for coin in coins:\n",
    "                if i < coin: # 目标金额数比coin还小\n",
    "                    continue\n",
    "                dp[i] = min(dp[i], 1+dp[i-coin])\n",
    "        return dp[amount] if dp[amount]!= amount+1 else -1"
   ]
  },
  {
   "cell_type": "markdown",
   "metadata": {},
   "source": [
    "## 2.1 最长递增子序列\n",
    "- 给一个无序的数组，返回其最长递增子序列的长度"
   ]
  },
  {
   "cell_type": "code",
   "execution_count": null,
   "metadata": {},
   "outputs": [],
   "source": [
    "# 思路：dp[i]表示以nums[i]结尾的最长递增子序列长度\n",
    "# 当已知前面的结果，当前以nums[i]结尾的子序列有很多，因为是递增，所以nums[i]只会接在比他小的数后面，使得子序列长度+1；\n",
    "# 此时就要穷举，在这些以nums[i]结尾的子序列中最大长度是多少，作为dp[i]的值；完成状态转移\n",
    "\n",
    "def solution(nums):\n",
    "    if not nums:\n",
    "        return 0\n",
    "    dp = [1 for i in range(len(nums))]\n",
    "    for i in range(1, len(nums)): # 逐个计算dp中的值\n",
    "        # 穷举以nums[i]结尾的递增子序列，只有比nums[i]值小的前面值才有机会\n",
    "        for j in range(i):\n",
    "            if nums[i] > nums[j]:\n",
    "                dp[i] = max(dp[i], dp[j]+1)\n",
    "    return max(dp)    ## 输出的是其中最大的       "
   ]
  },
  {
   "cell_type": "markdown",
   "metadata": {},
   "source": [
    "## 2.3 最大子数组和\n",
    "- 给一个整数数组，找出一个和最大的子数组，返回这个子数组的和\n",
    "- 子数组类似子串，要连续"
   ]
  },
  {
   "cell_type": "code",
   "execution_count": null,
   "metadata": {},
   "outputs": [],
   "source": [
    "# 思路同上，dp[i]表示以nums[i]结尾的最大子数组和\n",
    "# 已知dp[i-1]，到i位置，dp[i]有两种选择，一个是带上nums[i]新的子数组和更大，一种是不带前面的子数组自成一派，nums[i]个人就最大\n",
    "# 选哪个？当然是更大的那种情况\n",
    "def solution(nums):\n",
    "    dp = [None]*len(nums)\n",
    "    dp[0] = nums[0]\n",
    "    for i in range(1,len(nums)):\n",
    "        dp[i] = max(dp[i-1]+nums[i], nums[i])\n",
    "    return max(dp)\n"
   ]
  },
  {
   "cell_type": "code",
   "execution_count": 1,
   "metadata": {},
   "outputs": [],
   "source": []
  },
  {
   "cell_type": "markdown",
   "metadata": {},
   "source": [
    "## 2.5 最长公共子序列\n",
    "- 给俩个字符串，求最长的公共子序列长度\n",
    "- 子序列不需要连续"
   ]
  },
  {
   "cell_type": "code",
   "execution_count": null,
   "metadata": {},
   "outputs": [],
   "source": [
    "# 思路：二维dp[i][j]表示s1[0...i] 和s2[0...j]中最长公共子序列的长度\n",
    "# 那么考虑s1[i]和s2[j] 的关系，如果二者相等，那么一定都在新的公共子序列中，就可用dp[i-1][j-1]+1 得到dp[i][j]\n",
    "# 如果二者不相等，那么至少有一个是不在新的公共子序列中的，那么我们新的最长公共子序列长度就取更大的\n",
    "\n",
    "def solution(s1, s2):\n",
    "    m = len(s1)\n",
    "    n = len(s2)\n",
    "    dp = [[0 for j in range(n+1)] for i in range(m+1)] # 行和列多加一个空串的情况为basecase\n",
    "    for i in range(m+1):\n",
    "        dp[i][0] = 0\n",
    "    for i in range(1, m+1):\n",
    "        for j in range(1, n+1):\n",
    "            if s1[i-1] == s2[j-1]:  #TODO 注意这里是i=0和j=0对应的都是空字符，所以实际根据索引取字符的时候要i-1，j-1\n",
    "                dp[i][j] = dp[i-1][j-1] + 1\n",
    "            else:\n",
    "                dp[i][j] = max(dp[i-1][j], dp[i][j-1])\n",
    "    return dp[m][n]    "
   ]
  },
  {
   "cell_type": "markdown",
   "metadata": {},
   "source": [
    "## 2.6最小编辑距离"
   ]
  },
  {
   "cell_type": "code",
   "execution_count": null,
   "metadata": {},
   "outputs": [],
   "source": [
    "class Solution:\n",
    "    def minDistance(self, word1: str, word2: str) -> int:\n",
    "        m, n = len(word1), len(word2)\n",
    "        dp = [[0 for j in range(n+1)] for i in range(m+1)]\n",
    "        for i in range(1,m+1):\n",
    "            dp[i][0] = i\n",
    "        for j in range(1,n+1):\n",
    "            dp[0][j] = j\n",
    "\n",
    "        for i in range(1, m+1):\n",
    "            for j in range(1, n+1):\n",
    "                if word1[i-1] == word2[j-1]:  # [ ]这里取值最容易错\n",
    "                    dp[i][j] = dp[i-1][j-1] \n",
    "                else:\n",
    "                    dp[i][j] = min(dp[i][j-1], dp[i-1][j], dp[i-1][j-1]) +1\n",
    "        return dp[m][n]\n"
   ]
  },
  {
   "cell_type": "markdown",
   "metadata": {},
   "source": [
    "## 最长回文子序列"
   ]
  },
  {
   "cell_type": "code",
   "execution_count": null,
   "metadata": {},
   "outputs": [],
   "source": [
    "class Solution:\n",
    "    def longestPalindromeSubseq(self, s: str) -> int:\n",
    "        dp = [[0 for j in range(len(s))] for i in range(len(s))]\n",
    "        for i in range(len(s)):\n",
    "            for j in range(len(s)):\n",
    "                if i==j:\n",
    "                    dp[i][j] = 1\n",
    "        for i in range(len(s)-2, -1, -1):  # 由于每个位置是由左下的值推出来的，所以遍历方向：从下往上，从左往右\n",
    "            for j in range(i+1, len(s)):\n",
    "                if s[i] == s[j]:\n",
    "                    dp[i][j] = dp[i+1][j-1] + 2\n",
    "                else:\n",
    "                    dp[i][j] = max(dp[i+1][j], dp[i][j-1])\n",
    "        return dp[0][len(s)-1]"
   ]
  },
  {
   "cell_type": "markdown",
   "metadata": {},
   "source": [
    "## 构造回文串的最小插入次数"
   ]
  },
  {
   "cell_type": "code",
   "execution_count": null,
   "metadata": {},
   "outputs": [],
   "source": [
    "# 思路，由s[i+1:j-1] 推s[i:j]\n",
    "\n",
    "def solution(s):\n",
    "    n = len(s)\n",
    "    dp = [[0 for j in range(n)] for i in range(n)]\n",
    "    for i in range(n-2, -1, -1):  # 由于每个位置是由左下的值推出来的，所以遍历方向：从下往上，从左往右\n",
    "        for j in range(i+1, n):\n",
    "            if s[i] == s[j]:\n",
    "                dp[i][j] = dp[i+1][j-1]\n",
    "            else:\n",
    "                dp[i][j] = min(dp[i+1][j], dp[i][j-1]) + 1\n",
    "    return dp[0][n-1]"
   ]
  }
 ],
 "metadata": {
  "kernelspec": {
   "display_name": "Python 3.7.8 64-bit",
   "language": "python",
   "name": "python3"
  },
  "language_info": {
   "codemirror_mode": {
    "name": "ipython",
    "version": 3
   },
   "file_extension": ".py",
   "mimetype": "text/x-python",
   "name": "python",
   "nbconvert_exporter": "python",
   "pygments_lexer": "ipython3",
   "version": "3.7.8"
  },
  "orig_nbformat": 4,
  "vscode": {
   "interpreter": {
    "hash": "22582f934e52ee930401435dc2e02187cc44d91f65772ba679acf525477aca3a"
   }
  }
 },
 "nbformat": 4,
 "nbformat_minor": 2
}
