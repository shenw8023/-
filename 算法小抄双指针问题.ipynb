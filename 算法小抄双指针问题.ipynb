{
 "cells": [
  {
   "cell_type": "markdown",
   "metadata": {},
   "source": [
    "# 一、快慢指针"
   ]
  },
  {
   "attachments": {},
   "cell_type": "markdown",
   "metadata": {},
   "source": [
    "##  1. 一般原地对数组的修改等运用快慢指针比较多\n",
    "\"\"\"\n",
    "def solution(s):\n",
    "    fast, slow = 0, 0\n",
    "    while fast < len(s):\n",
    "        if 条件:\n",
    "            slow += 1\n",
    "        fast += 1\n",
    "    \n",
    "\"\"\"\n"
   ]
  },
  {
   "cell_type": "markdown",
   "metadata": {},
   "source": [
    "## 26 原地删除有序数组中的重复项"
   ]
  },
  {
   "cell_type": "code",
   "execution_count": null,
   "metadata": {},
   "outputs": [],
   "source": [
    "\"\"\"\n",
    "由于是有序数组，重复项都连在一起\n",
    "数组一般将索引视为指针\n",
    "快慢指针，让快指针在全面探路，遇到重复的跳过，遇到新的就赋值给慢指针\n",
    "\"\"\"\n",
    "def solution(nums): #要求返回去重后的数组长度\n",
    "    fast, slow = 0, 0\n",
    "    length = len(nums)\n",
    "    while fast < length:\n",
    "        if nums[fast] != nums[slow]:\n",
    "            slow += 1  \n",
    "            nums[slow] = nums[fast] ## 注意,由于循环第一次必不会执行这一步，所以后来赋值之前必须slow+=1\n",
    "        fast += 1\n",
    "    return slow + 1"
   ]
  },
  {
   "cell_type": "markdown",
   "metadata": {},
   "source": [
    "## 83 删除有序链表中重复元素"
   ]
  },
  {
   "cell_type": "code",
   "execution_count": null,
   "metadata": {},
   "outputs": [],
   "source": [
    "def solution(head):\n",
    "    if not head:\n",
    "        return head\n",
    "    fast, slow = head, head\n",
    "    while fast is not None:\n",
    "        if fast.value != slow.value:\n",
    "            slow.next = fast\n",
    "            slow = slow.next # 容易遗漏\n",
    "        fast = fast.next\n",
    "    slow.next = None # 断开与后面元素的连接\n",
    "    return head"
   ]
  },
  {
   "cell_type": "markdown",
   "metadata": {},
   "source": [
    "## 27 原地移除数组中所有值等于给定值的元素，返回新数组长度"
   ]
  },
  {
   "cell_type": "code",
   "execution_count": null,
   "metadata": {},
   "outputs": [],
   "source": [
    "def solution(nums, val):\n",
    "    slow, fast = 0, 0\n",
    "    length = len(nums)\n",
    "    while fast < length:\n",
    "        if nums[fast] != val:\n",
    "            nums[slow] = nums[fast]# 注意，由于第一次循环第一次就可能执行这一步，所以slow+=1必须放后面\n",
    "            slow += 1  \n",
    "        fast += 1\n",
    "    return slow  "
   ]
  },
  {
   "cell_type": "markdown",
   "metadata": {},
   "source": [
    "## 283 移动零，要求原地将数组中零元素移动到数组末尾"
   ]
  },
  {
   "cell_type": "code",
   "execution_count": null,
   "metadata": {},
   "outputs": [],
   "source": [
    "def solution(nums):  # 结合上一题，可以将数组中所有零元素删除，再把后面元素赋值为0\n",
    "    fast, slow = 0, 0 \n",
    "    length = len(nums)\n",
    "    while fast < length:\n",
    "        if nums[fast] != 0:\n",
    "            nums[slow] = nums[fast]\n",
    "            slow += 1\n",
    "        fast += 1\n",
    "    while slow < length:\n",
    "        nums[slow] = 0  # 注意，这里slow+=1要放后面，因为上个循环以slow+=1 结束的\n",
    "        slow += 1\n",
    "    "
   ]
  },
  {
   "cell_type": "code",
   "execution_count": null,
   "metadata": {},
   "outputs": [],
   "source": []
  },
  {
   "cell_type": "markdown",
   "metadata": {},
   "source": [
    "# 二、滑动窗口的问题"
   ]
  },
  {
   "cell_type": "code",
   "execution_count": null,
   "metadata": {},
   "outputs": [],
   "source": [
    "## py模板\n",
    "def solution(s, t):\n",
    "    left, right = 0, 0\n",
    "    valid = 0\n",
    "    need, window = {}, {}\n",
    "    #need是目标，定下来就不动\n",
    "    for i in t:\n",
    "        need[i] = need.get(i, 0) + 1\n",
    "    \n",
    "    while right < len(s):\n",
    "        c = s[right] #将进入窗口的字符\n",
    "\n",
    "        #右移窗口\n",
    "        right += 1\n",
    "        # 进行窗口内数据更新\n",
    "        # window先变化，valid后变化\n",
    "\n",
    "        while (window need shrink): #窗口收缩的条件至少是得保证达到了基本条件\n",
    "            #将移出窗口的字符\n",
    "            d = s[left]\n",
    "            #左移窗口\n",
    "            left += 1\n",
    "            #进行窗口内数据更新\n",
    "            #先处理valid的变化，然后进行window的更新\n",
    "        \n",
    "\n",
    "\n",
    "\n",
    "\n",
    "\n",
    "# 模板\n",
    "/* 滑动窗口算法框架 */\n",
    "void slidingWindow(string s) {\n",
    "    unordered_map<char, int> window;\n",
    "    \n",
    "    int left = 0, right = 0;\n",
    "    while (right < s.size()) {\n",
    "        // c 是将移入窗口的字符\n",
    "        char c = s[right];\n",
    "        // 增大窗口\n",
    "        right++;\n",
    "        // 进行窗口内数据的一系列更新\n",
    "        ...\n",
    "\n",
    "        /*** debug 输出的位置 ***/\n",
    "        printf(\"window: [%d, %d)\\n\", left, right);\n",
    "        /********************/\n",
    "        \n",
    "        // 判断左侧窗口是否要收缩\n",
    "        while (window needs shrink) {\n",
    "            // d 是将移出窗口的字符\n",
    "            char d = s[left];\n",
    "            // 缩小窗口\n",
    "            left++;\n",
    "            // 进行窗口内数据的一系列更新\n",
    "            ...\n",
    "        }\n",
    "    }\n",
    "}"
   ]
  },
  {
   "attachments": {},
   "cell_type": "markdown",
   "metadata": {},
   "source": [
    "- 这两个 ... 处的操作分别是扩大和缩小窗口的更新操作，等会你会发现它们操作是完全对称的。\n",
    "\n",
    "- 现在开始套模板，只需要思考以下几个问题：\n",
    "\n",
    "    1、什么时候应该移动 right 扩大窗口？窗口加入字符时，应该更新哪些数据？\n",
    "\n",
    "    2、什么时候窗口应该暂停扩大，开始移动 left 缩小窗口？\n",
    "    \n",
    "    3、从窗口移出字符时，应该更新哪些数据？\n",
    "\n",
    "    4、我们要的结果应该在扩大窗口时还是缩小窗口时进行更新？\n",
    "\n",
    "    如果一个字符进入窗口，应该增加 window 计数器；如果一个字符将移出窗口的时候，应该减少 window 计数器；当 valid 满足 need 时应该收缩窗口；应该在收缩窗口的时候更新最终结果。"
   ]
  },
  {
   "cell_type": "markdown",
   "metadata": {},
   "source": [
    "## 76 最小覆盖子串\n",
    "- 给一个s串和一个t串，返回s中涵盖t所有字符的最小子串"
   ]
  },
  {
   "cell_type": "code",
   "execution_count": null,
   "metadata": {},
   "outputs": [],
   "source": [
    "def min_sub_str(s, t):\n",
    "    need, window = {}, {} # 分别记录目标子串中所有字符的个数和窗口中所有字符的个数\n",
    "    for i in t:\n",
    "        need[s] = need.get(i, 0) + 1\n",
    "        \n",
    "    left, right = 0, 0\n",
    "    valid = 0  # 记录window中已经满足need的字符个数，当valid==len(need)时，满足题意\n",
    "    start, minlen = 0, len(s)+1\n",
    "    \n",
    "    length = len(s)\n",
    "    while right < length:\n",
    "        c = s[right]  # c是本次移入窗口的字符\n",
    "        \n",
    "        # 进行窗口内数据的一系列更新\n",
    "        if c in need:\n",
    "            #TODO 加入新来的c，考虑window怎么变，valid怎么变，window先产生变化，再判断valid，有先后依赖关系的\n",
    "            window[c] = window.get(c, 0) + 1 #window先变化，然后才考虑valid如何\n",
    "            if window[c] == need[c]:\n",
    "                valid += 1\n",
    "        right += 1    # 扩大窗口\n",
    "        \n",
    "        # 判断窗口左侧要不要收缩\n",
    "        while valid == len(need):\n",
    "            # 在收缩阶段判断更新题目要求的最小覆盖子串，注意是在每一次收缩之前判断的\n",
    "            if right - left < minlen:\n",
    "                start = left\n",
    "                minlen = right - left  #TODO 注意这里正常是要+1才能表示长度的，但是right+=1放在上面而不是内层循环之后，索引此时的right已经+1过了\n",
    "            \n",
    "            d = s[left] # d是即将移出的字符\n",
    "            left += 1\n",
    "            # 进行窗口内数据的一系列更新，和上面是对称相反的过程\n",
    "            if d in need:\n",
    "                #TODO 移出现有的d，下一轮valid怎么变，window怎么变，先处理valid的变化，然后再判断window的变化，因为valid依赖window的\n",
    "                if window[d] == need[d]:  # 此时valid==len(need)，所以如果in need 那必然in window\n",
    "                    valid -= 1   #先考虑即将移出d字符后，valid如何，然后window再变化，顺序和上面相反\n",
    "                window[d] -= 1   \n",
    "        \n",
    "            \n",
    "            \n",
    "    if minlen == len(s)+1:\n",
    "        return \"\"\n",
    "    return s[start:start+minlen]\n",
    "\n",
    "        "
   ]
  },
  {
   "cell_type": "markdown",
   "metadata": {},
   "source": [
    "## 567 字符串的排列\n",
    "- 判断s2子串中是否包含s1串的排列之一"
   ]
  },
  {
   "cell_type": "code",
   "execution_count": null,
   "metadata": {},
   "outputs": [],
   "source": [
    "def solution(s1, s2):\n",
    "    left, right = 0, 0\n",
    "    window, need = {}, {}\n",
    "    for i in s1:\n",
    "        need[i] = need.get(i, 0) + 1\n",
    "    valid = 0\n",
    "    \n",
    "    while right < len(s2):\n",
    "        c = s2[right]\n",
    "        if c in need:\n",
    "            window[c] = window.get(c, 0) + 1\n",
    "            if window[c] == need[c]:\n",
    "                valid += 1\n",
    "        right += 1\n",
    "        while right-left >= len(s1): #TODO这里本应该是right-left+1 >=len(s1)，因为上面做了right+=1，所以这里省了\n",
    "            if valid == len(need):\n",
    "                return True\n",
    "            \n",
    "            d = s2[left]\n",
    "            if d in need:\n",
    "                if window[d] == need[d]:  # 此时条件不是valid==len(need)了，所以要判断是否in window\n",
    "                    valid -= 1\n",
    "                if d in window:\n",
    "                    window[d] -= 1\n",
    "            left+=1\n",
    "    return False\n",
    "            \n",
    "  "
   ]
  },
  {
   "cell_type": "markdown",
   "metadata": {},
   "source": [
    "## 438 找到字符串中所有字母异位词\n",
    "- 给两个字符串，找到s中所有p的排列串，返回所有子串的起始索引"
   ]
  },
  {
   "cell_type": "code",
   "execution_count": null,
   "metadata": {},
   "outputs": [],
   "source": [
    "def solution(s, p):\n",
    "    res = []\n",
    "    need, window = {},{}\n",
    "    for i in p:\n",
    "        need[i] = need.get(i, 0) + 1\n",
    "    left, right = 0,0\n",
    "    valid = 0\n",
    "    while right < len(s):\n",
    "        c = s[right]\n",
    "        if c in need:\n",
    "            window[c] = window.get(c, 0) +1\n",
    "            if window[c] == need[c]:\n",
    "                valid += 1\n",
    "        right += 1\n",
    "        while right - left >= len(p):\n",
    "            if valid == len(need):\n",
    "                res.append(left)\n",
    "            d = s[left]\n",
    "            if d in need:\n",
    "                if need[d] == window.get(d, 0):\n",
    "                    valid -= 1\n",
    "                if d in window:\n",
    "                    window[d] -= 1\n",
    "            left += 1\n",
    "            \n",
    "    return res"
   ]
  },
  {
   "cell_type": "code",
   "execution_count": null,
   "metadata": {},
   "outputs": [],
   "source": [
    "## 3 「 无重复字符的最长子串」"
   ]
  },
  {
   "cell_type": "code",
   "execution_count": null,
   "metadata": {},
   "outputs": [],
   "source": [
    "def solution(s):\n",
    "    window = {}\n",
    "    left, right = 0, 0\n",
    "    maxlen = 0\n",
    "    \n",
    "    while right < len(s):\n",
    "        c = s[right]\n",
    "        window[c] = window.get(c, 0) + 1\n",
    "        right += 1\n",
    "        \n",
    "        # 设想某一次迭代中，右边新增一个字符，导致window中该字符数量大于1，此时要一直缩小window，直到window中该字符为1\n",
    "        while window[c] > 1: \n",
    "            d = s[left]\n",
    "            if d in window:\n",
    "                window[d] -= 1\n",
    "            left += 1\n",
    "        # 窗口更新完成，最后符合要求了，再判断题意要求的最优解\n",
    "        maxlen = max(maxlen, right-left)\n",
    "    return maxlen"
   ]
  },
  {
   "cell_type": "code",
   "execution_count": null,
   "metadata": {},
   "outputs": [],
   "source": []
  },
  {
   "cell_type": "markdown",
   "metadata": {},
   "source": [
    "# 三、左右指针"
   ]
  },
  {
   "cell_type": "markdown",
   "metadata": {},
   "source": [
    "## 344 反转字符串"
   ]
  },
  {
   "cell_type": "code",
   "execution_count": null,
   "metadata": {},
   "outputs": [],
   "source": [
    "def solution(s):\n",
    "    left, right = 0, len(s)-1\n",
    "    while left < right:\n",
    "        tmp = s[right]\n",
    "        s[right] = s[left]\n",
    "        s[left] = tmp\n",
    "        left += 1\n",
    "        right -= 1"
   ]
  },
  {
   "attachments": {},
   "cell_type": "markdown",
   "metadata": {},
   "source": [
    "## 167 两数之和，输入有序数组"
   ]
  },
  {
   "cell_type": "code",
   "execution_count": null,
   "metadata": {},
   "outputs": [],
   "source": [
    "def solution(nums, target):\n",
    "    left, right = 0, len(nums)-1\n",
    "    while left < right:\n",
    "        sum = nums[left] + nums[right]\n",
    "        if sum == target:\n",
    "            return [left+1, right+1] #题目要求下标从1开始\n",
    "        elif sum > target:\n",
    "            right -= 1\n",
    "        elif sum < target:\n",
    "            left += 1\n",
    "    return [-1,-1]"
   ]
  },
  {
   "cell_type": "markdown",
   "metadata": {},
   "source": [
    "## 5 题「 [最长回文子串](https://leetcode.cn/problems/longest-palindromic-substring/)」\n",
    "- 从中心向两边扩散寻找最大回文子串\n",
    "- 中心从左到右不断移动（中心包括一个字符为中心，两个相连字符为中心）"
   ]
  },
  {
   "cell_type": "code",
   "execution_count": null,
   "metadata": {},
   "outputs": [],
   "source": [
    "# 中心扩散法：本质即为：我们枚举所有的「回文中心」并尝试「扩展」，直到无法扩展为止，此时的回文串长度即为此「回文中心」下的最长回文串长度。我们对所有的长度求出最大值，即可得到最终的答案。\n",
    "\n",
    "def find(s, i, j):\n",
    "    \"找到s中以s[i], s[j]为中心的最大回文子串\"\n",
    "    while i>=0 and j<len(s):\n",
    "        if s[i] == s[j]:\n",
    "            i-=1\n",
    "            j+=1\n",
    "        else:\n",
    "            break  # 这里容易遗漏，那么会成为死循环\n",
    "    return s[i+1:j]  # 看循环中最后一步变了i和j\n",
    "\n",
    "def solution(s):\n",
    "    res = \"\"\n",
    "    for i in range(0, len(s)):\n",
    "        s1 = find(s, i, i)\n",
    "        s2 = find(s, i, i+1)\n",
    "        res = s1 if len(res)<len(s1) else res\n",
    "        res = s2 if len(res)<len(s2) else res\n",
    "    return res\n",
    "    "
   ]
  },
  {
   "cell_type": "code",
   "execution_count": null,
   "metadata": {},
   "outputs": [],
   "source": [
    "# 动态规划法：P(i,j) = P(i+1, j-1) and (Si == Sj) 如果已知一个回文串，从长度较短的字符串向长度较长的字符串进行转移\n",
    "\n",
    "def solution(s):\n",
    "    # dp[i][j] 表示 s[i..j] 的最长回文串长度\n",
    "    n = len(s)\n",
    "    dp = [[0 for i in range(n)] for i in range(n)]\n",
    "        "
   ]
  },
  {
   "cell_type": "markdown",
   "metadata": {},
   "source": [
    "# 左右指针之二分搜索"
   ]
  },
  {
   "cell_type": "markdown",
   "metadata": {},
   "source": [
    "## 704 二分查找"
   ]
  },
  {
   "cell_type": "code",
   "execution_count": null,
   "metadata": {},
   "outputs": [],
   "source": [
    "# 基本二分搜索，搜索区间为两边都闭\n",
    "class Solution:\n",
    "    def search(self, nums: List[int], target: int) -> int:\n",
    "        left, right = 0, len(nums)-1\n",
    "        while left <= right:\n",
    "            mid = left + (right-left)//2\n",
    "            if nums[mid] == target:\n",
    "                return mid\n",
    "            elif nums[mid] > target:\n",
    "                right = mid-1\n",
    "            elif nums[mid] < target:\n",
    "                left = mid+1\n",
    "        return -1"
   ]
  },
  {
   "cell_type": "code",
   "execution_count": null,
   "metadata": {},
   "outputs": [],
   "source": [
    "# 寻找左侧边界的二分搜索，（搜索区间两边都闭）\n",
    "def left_bound(nums, target):\n",
    "    left, right = 0, len(nums)-1\n",
    "    while left <= right:\n",
    "        mid = left + (right-left)//2\n",
    "        if nums[mid] < target:\n",
    "            left = mid + 1\n",
    "        elif nums[mid] > target:\n",
    "            right = mid -1\n",
    "        elif nums[mid] == target:\n",
    "            right = mid - 1  # 收缩右边界\n",
    "    # 由于while内不会return，所以结束条件是left=right+1\n",
    "    # 结束条件：left = right +1, 而right=mid-1, 所以如果存在的话，mid=left\n",
    "    # 既然看的是left，就要考虑left会不会存在索引越界的情况\n",
    "    if left>=len(nums) or nums[left]!=target:\n",
    "        return -1\n",
    "    \n",
    "    return left  \n",
    "            "
   ]
  },
  {
   "cell_type": "code",
   "execution_count": null,
   "metadata": {},
   "outputs": [],
   "source": [
    "# 寻找左边界（搜索区间 左闭右开）\n",
    "def left_bound(nums, target):\n",
    "    left, right = 0, len(nums)\n",
    "    while left < right:  # 结束区间：[left, left)\n",
    "        mid = left+(right-left)//2\n",
    "        if nums[mid] == target:\n",
    "            right = mid\n",
    "        ##[ ] 下一步搜素区间：[left, mid) [mid+1, right)\n",
    "        elif nums[mid] < target:\n",
    "            left = mid+1\n",
    "        elif nums[mid] > target:\n",
    "            right = mid\n",
    "        \n",
    "    # 结束条件：left=right, 而right=mid\n",
    "    if left>=len(nums) or nums[left]!=target:\n",
    "        return -1\n",
    "    return left"
   ]
  },
  {
   "cell_type": "code",
   "execution_count": 6,
   "metadata": {},
   "outputs": [],
   "source": [
    "# 寻找右侧边界的二分搜索（搜索区间两端都闭）\n",
    "def right_bound(nums,target):  #\n",
    "    left, right = 0, len(nums)-1\n",
    "    while left <= right:\n",
    "        mid = left + (right-left)//2\n",
    "        if nums[mid] < target:\n",
    "            left = mid +1\n",
    "        elif nums[mid] > target:\n",
    "            right = mid -1\n",
    "        elif nums[mid] == target:\n",
    "            left = mid+1\n",
    "    # 结束条件：left=right+1, left=mid-1, 所以如果存在的话，mid=right\n",
    "    # 既然看的是right，就要考虑right会不会存在索引越界的情况\n",
    "    if right<0 or nums[right] != target:\n",
    "        return -1\n",
    "    return right\n",
    "        "
   ]
  },
  {
   "cell_type": "code",
   "execution_count": null,
   "metadata": {},
   "outputs": [],
   "source": [
    "# 寻找右边界（搜索区间 左闭右开）\n",
    "def right_bound(nums, target):\n",
    "    left, right =0, len(nums)\n",
    "    while left<right:\n",
    "        mid = left+(right-left)//2\n",
    "        if nums[mid] == target:\n",
    "            left = mid+1\n",
    "        ##[ ] 下一步搜素区间：[left, mid) [mid+1, right)\n",
    "        elif nums[mid]>target:    \n",
    "            right = mid \n",
    "        elif nums[mid]<target:\n",
    "            left = mid +1\n",
    "    \n",
    "    # 结束条件：left=right, left=mid+1, mid=left-1\n",
    "    if left<=0 or left>=len(nums) or nums[left-1]!=target:\n",
    "        return -1\n",
    "    return left-1\n",
    "        "
   ]
  }
 ],
 "metadata": {
  "kernelspec": {
   "display_name": "Python 3.7.8 64-bit",
   "language": "python",
   "name": "python3"
  },
  "language_info": {
   "codemirror_mode": {
    "name": "ipython",
    "version": 3
   },
   "file_extension": ".py",
   "mimetype": "text/x-python",
   "name": "python",
   "nbconvert_exporter": "python",
   "pygments_lexer": "ipython3",
   "version": "3.7.8 (tags/v3.7.8:4b47a5b6ba, Jun 28 2020, 08:53:46) [MSC v.1916 64 bit (AMD64)]"
  },
  "orig_nbformat": 4,
  "vscode": {
   "interpreter": {
    "hash": "22582f934e52ee930401435dc2e02187cc44d91f65772ba679acf525477aca3a"
   }
  }
 },
 "nbformat": 4,
 "nbformat_minor": 2
}
