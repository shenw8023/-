{
 "cells": [
  {
   "cell_type": "code",
   "execution_count": null,
   "metadata": {},
   "outputs": [],
   "source": [
    "# 105. 从前序与中序遍历序列构造二叉树\n",
    "class Solution:\n",
    "    def buildTree(self, preorder: List[int], inorder: List[int]) -> Optional[TreeNode]:\n",
    "        if len(preorder) == 0 or len(inorder) == 0:\n",
    "            return None\n",
    "\n",
    "        root = TreeNode(preorder[0])\n",
    "        index = inorder.index(preorder[0])\n",
    "        root.left = self.buildTree(preorder[1: index + 1], inorder[0: index])\n",
    "        root.right = self.buildTree(preorder[index + 1:], inorder[index + 1:])\n",
    "        return root"
   ]
  },
  {
   "cell_type": "code",
   "execution_count": null,
   "metadata": {},
   "outputs": [],
   "source": [
    "# 106. 从中序与后序遍历序列构造二叉树\n",
    "class Solution:\n",
    "    def buildTree(self, inorder: List[int], postorder: List[int]) -> Optional[TreeNode]:\n",
    "        if not inorder or not postorder:\n",
    "            return None\n",
    "\n",
    "        root = TreeNode(postorder[-1])\n",
    "        index = inorder.index(postorder[-1])\n",
    "        root.left = self.buildTree(inorder[:index], postorder[:index])\n",
    "        root.right = self.buildTree(inorder[index+1:], postorder[index:-1])\n",
    "\n",
    "        return root"
   ]
  },
  {
   "cell_type": "code",
   "execution_count": null,
   "metadata": {},
   "outputs": [],
   "source": [
    "# 889. 根据前序和后序遍历构造二叉树\n",
    "class Solution:\n",
    "    def constructFromPrePost(self, preorder: List[int], postorder: List[int]) -> Optional[TreeNode]:\n",
    "        if len(preorder)==1:\n",
    "            return TreeNode(preorder[0])\n",
    "        if len(preorder)==0 or len(postorder)==0:\n",
    "            return None\n",
    "        \n",
    "        root = TreeNode(preorder[0])\n",
    "        index = postorder.index(preorder[1])\n",
    "        root.left = self.constructFromPrePost(preorder[1:index+2], postorder[:index+1])\n",
    "        root.right = self.constructFromPrePost(preorder[index+2:], postorder[index+1:-1])\n",
    "        return root"
   ]
  },
  {
   "cell_type": "code",
   "execution_count": null,
   "metadata": {},
   "outputs": [],
   "source": []
  },
  {
   "cell_type": "code",
   "execution_count": null,
   "metadata": {},
   "outputs": [],
   "source": []
  }
 ],
 "metadata": {
  "language_info": {
   "name": "python"
  },
  "orig_nbformat": 4
 },
 "nbformat": 4,
 "nbformat_minor": 2
}
