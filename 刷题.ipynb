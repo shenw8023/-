{
 "cells": [
  {
   "cell_type": "markdown",
   "metadata": {},
   "source": [
    "## 数组\n",
    "- 11 盛最多水的容器\n",
    "    - 左右指针，逐步缩小返回，遍历全部得到最大的那个\n",
    "- 15 三数之和\n",
    "- 18 四数之和\n",
    "    - nSumTarget函数，四个参数\n",
    "    - 左右双指针找target\n",
    "    - 注意从start位置开始，注意跳过重复的数字\n",
    "- 26 删除有序数组中的重复项\n",
    "    - 快慢指针，慢指针和快指针比较\n",
    "- 31 下一个排列#TODO\n",
    "    - 怎么证明交换后右边是降序的\n",
    "\n",
    "- 39 组合总和\n",
    "    - 回溯要考虑及时return，减少不必要的递归\n",
    "    - 为了让结果没有重复，需要start限制起始位置\n",
    "    - 考虑sum超过target的时候也要及时return\n",
    "    - 由于可以重复选，递归的时候start不能是i+1"
   ]
  },
  {
   "cell_type": "markdown",
   "metadata": {},
   "source": [
    "## 哈希表\n",
    "- 3 无重复字符的最长子串\n",
    "    - 滑动窗口\n",
    "- 12 整数转罗马数字\n",
    "    - 从大到小建查询表\n",
    "- 13 罗马数字转整数\n",
    "    - 特例取负\n",
    "- 17 电话号码的字母组合\n",
    "    - 两层回溯 #TODO "
   ]
  },
  {
   "cell_type": "code",
   "execution_count": null,
   "metadata": {},
   "outputs": [],
   "source": []
  }
 ],
 "metadata": {
  "kernelspec": {
   "display_name": "Python 3.7.8 64-bit",
   "language": "python",
   "name": "python3"
  },
  "language_info": {
   "name": "python",
   "version": "3.7.8"
  },
  "orig_nbformat": 4,
  "vscode": {
   "interpreter": {
    "hash": "22582f934e52ee930401435dc2e02187cc44d91f65772ba679acf525477aca3a"
   }
  }
 },
 "nbformat": 4,
 "nbformat_minor": 2
}
