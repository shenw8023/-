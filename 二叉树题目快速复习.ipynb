{
 "cells": [
  {
   "cell_type": "markdown",
   "metadata": {},
   "source": [
    "## 求二叉树的最大深度"
   ]
  },
  {
   "cell_type": "code",
   "execution_count": null,
   "metadata": {},
   "outputs": [],
   "source": [
    "\n",
    "# Definition for a binary tree node.\n",
    "class TreeNode:\n",
    "    def __init__(self, val=0, left=None, right=None):\n",
    "        self.val = val\n",
    "        self.left = left\n",
    "        self.right = right\n",
    "\n",
    "\n",
    "# 分解的思路，并充分利用返回值     \n",
    "class Solution:\n",
    "    def maxDepth(self, root:TreeNode) -> int:\n",
    "        if not root:\n",
    "            return 0\n",
    "        left_max = self.maxDepth(root.left)\n",
    "        right_max = self.maxDepth(root.right)\n",
    "        return max(left_max, right_max) + 1\n",
    "\n",
    "\n",
    "\n",
    "# 使用一次遍历二叉树的思路，用一个递归函数配合外部变量\n",
    "class Solution:\n",
    "    def maxDepth(self, root:TreeNode) -> int:\n",
    "\n",
    "        self.max_depth = 0\n",
    "        def travel(root, depth):\n",
    "            if not root:\n",
    "                return\n",
    "                \n",
    "            depth += 1\n",
    "            if not root.left and not root.right:\n",
    "                self.max_depth = max(self.max_depth, depth)\n",
    "            \n",
    "            travel(root.left, depth)\n",
    "            travel(root.right, depth)\n",
    "            self.depth -= 1\n",
    "\n",
    "        travel(root, 0)\n",
    "        return self.max_depth\n"
   ]
  },
  {
   "cell_type": "markdown",
   "metadata": {},
   "source": [
    "## 二叉树前序遍历结果"
   ]
  },
  {
   "cell_type": "code",
   "execution_count": null,
   "metadata": {},
   "outputs": [],
   "source": [
    "# 遍历的思路，使用外部辅助函数\n",
    "def preorder(root):\n",
    "    res = []\n",
    "    \n",
    "    def traverse(root):\n",
    "        if not root:\n",
    "            return\n",
    "        res.append(root.val)\n",
    "        traverse(root.left)\n",
    "        traverse(root.right)\n",
    "    \n",
    "    traverse(root)\n",
    "    return res\n",
    "\n",
    "# 分解问题的思路，不借助外部辅助递归函数，直接使用问题定义函数，并充分利用返回值\n",
    "def preorder(root):   # 定义：输入根节点，返回先序遍历结果序列\n",
    "    if not root:\n",
    "        return []\n",
    "    left = preorder(root.left)\n",
    "    right = preorder(root.right)\n",
    "    return [root.val, *left, *right]\n",
    "    "
   ]
  },
  {
   "cell_type": "markdown",
   "metadata": {},
   "source": [
    "## 翻转二叉树"
   ]
  },
  {
   "cell_type": "code",
   "execution_count": null,
   "metadata": {},
   "outputs": [],
   "source": [
    "class Solution:\n",
    "    def invertTree(self, root: Optional[TreeNode]) -> Optional[TreeNode]:\n",
    "        if not root:\n",
    "            return\n",
    "        \n",
    "        origin_left = self.invertTree(root.left)  #必须实例化为变量，不能直接合并到下面赋值，不知道为什么\n",
    "        origin_right = self.invertTree(root.right)\n",
    "        root.left = origin_right\n",
    "        root.right = origin_left\n",
    "        return root\n",
    "\n",
    "\n",
    "\"\"\"\n",
    "# 上述为分解的思路，充分利用返回值\n",
    "# 下面为遍历的思路，每次遍历的时候，做翻转，\n",
    "class Solution:\n",
    "    def invertTree(self, root: Optional[TreeNode]) -> Optional[TreeNode]:\n",
    "\n",
    "        def traverse(root):\n",
    "            if not root:\n",
    "                return \n",
    "            tmp = root.left\n",
    "            root.left = root.right\n",
    "            root.right = tmp\n",
    "            \n",
    "            traverse(root.left)\n",
    "            traverse(root.right)\n",
    "\n",
    "        traverse(root)\n",
    "        return root\n",
    "\n",
    "\n",
    "\"\"\""
   ]
  },
  {
   "cell_type": "markdown",
   "metadata": {},
   "source": [
    "# 二叉树展开为链表(拉平)"
   ]
  },
  {
   "cell_type": "code",
   "execution_count": null,
   "metadata": {},
   "outputs": [],
   "source": [
    "# 分解的思路，利用递归的定义\n",
    "class Solution:\n",
    "    def flatten(self, root: Optional[TreeNode]) -> None:\n",
    "        \"\"\"\n",
    "        Do not return anything, modify root in-place instead.\n",
    "        \"\"\"\n",
    "        if not root:\n",
    "            return \n",
    "        self.flatten(root.left) # 拉平左子树\n",
    "        self.flatten(root.right) # 拉平右子树\n",
    "\n",
    "        left = root.left\n",
    "        right = root.right\n",
    "\n",
    "        root.left = None\n",
    "        root.right = left\n",
    "        p = root\n",
    "        while p.right:\n",
    "            p = p.right\n",
    "        p.right = right\n",
    "       "
   ]
  },
  {
   "cell_type": "markdown",
   "metadata": {},
   "source": [
    "## 层序遍历框架"
   ]
  },
  {
   "cell_type": "code",
   "execution_count": null,
   "metadata": {},
   "outputs": [],
   "source": [
    "\n",
    "\n",
    "def levelorder(root):\n",
    "    q = Queue()\n",
    "    q.enqueue(root)\n",
    "    \n",
    "    while not q.is_empty():    # 从上到下\n",
    "        size = len(q)\n",
    "        for i in range(size):  # 从左到右\n",
    "            cur = q.dequeue()\n",
    "            # \"do something\"\n",
    "            if cur.left:\n",
    "                q.enqueue(cur.left)\n",
    "            if cur.right:\n",
    "                q.enqueu(cur.right)\n",
    "        "
   ]
  },
  {
   "cell_type": "markdown",
   "metadata": {},
   "source": [
    "## 填充每一个节点的下一个右侧节点指针"
   ]
  },
  {
   "cell_type": "code",
   "execution_count": null,
   "metadata": {},
   "outputs": [],
   "source": [
    "# 之前的递归函数输入都是一个节点，对于一个节点，我们在函数体内的前中后序位置都只能处理其left和right子节点\n",
    "# 如果传入两个节点，那么我们就能处理4个节点之间的关系了，node1.left, node1.right, node2.left, node2.right\n",
    "\n",
    "class Solution:\n",
    "    def connect(self, root: 'Optional[Node]') -> 'Optional[Node]':\n",
    "        if not root:\n",
    "            return root\n",
    "\n",
    "        def traverse(node1, node2):\n",
    "            if not node1 or not node2:\n",
    "                return\n",
    "            node1.next = node2\n",
    "            traverse(node1.left, node1.right)\n",
    "            traverse(node2.left, node2.right)\n",
    "            traverse(node1.right, node2.left)\n",
    "\n",
    "        traverse(root.left, root.right)\n",
    "        return root\n",
    "\n",
    "# 该解法效率不高，应该看看官方解答"
   ]
  },
  {
   "cell_type": "markdown",
   "metadata": {},
   "source": [
    "## 树的子结构"
   ]
  },
  {
   "cell_type": "code",
   "execution_count": null,
   "metadata": {},
   "outputs": [],
   "source": [
    "class Solution:\n",
    "    def isSubStructure(self, A: TreeNode, B: TreeNode) -> bool:\n",
    "        if not A or not B:\n",
    "            return False\n",
    "        if A.val == B.val and self.compare(A,B):\n",
    "            return True\n",
    "        return self.isSubStructure(A.left, B) or self.isSubStructure(A.right, B)\n",
    "    \n",
    "    def compare(self, A,B):\n",
    "        \"判断从rootA开始是否可以完全匹配rootB上所有节点，先看最后一句\"\n",
    "        if not B:  # 一直到其中有一个子节点为空的时候\n",
    "            return True\n",
    "        if not A and B:\n",
    "            return False\n",
    "        if A.val != B.val:\n",
    "            return False\n",
    "        return self.compare(A.left, B.left) and self.compare(A.right, B.right) # A的left要能匹配上B，A的right也要能，才能说A能匹配B\n",
    "    \n",
    "        "
   ]
  },
  {
   "cell_type": "markdown",
   "metadata": {},
   "source": [
    "## 寻找重复的子树"
   ]
  },
  {
   "cell_type": "code",
   "execution_count": null,
   "metadata": {},
   "outputs": [],
   "source": [
    "# 对每个节点来说都代表一颗子树，对每个节点要看自己的子树长啥样，也要看其他子树长啥样子，比对之后看是否添加到结果，同时记录到哈希表\n",
    "\n",
    "class Solution:\n",
    "    def findDuplicateSubtrees(self, root: Optional[TreeNode]) -> List[Optional[TreeNode]]:\n",
    "        self.memo = dict()\n",
    "        self.res = []\n",
    "        self.traverse(root)\n",
    "        return self.res\n",
    "\n",
    "    def traverse(self, root):\n",
    "        if not root:\n",
    "            return \"#\"\n",
    "        l = self.traverse(root.left)\n",
    "        r = self.traverse(root.right)\n",
    "        subtree = l + ',' + r + ',' + str(root.val)  # 序列化子树\n",
    "\n",
    "        freq = self.memo.get(subtree, 0)\n",
    "        if freq == 1:\n",
    "            self.res.append(root)\n",
    "        self.memo[subtree] = freq + 1\n",
    "        return subtree\n",
    "        "
   ]
  },
  {
   "cell_type": "markdown",
   "metadata": {},
   "source": [
    "## 二叉树序列化和反序列化"
   ]
  },
  {
   "cell_type": "code",
   "execution_count": null,
   "metadata": {},
   "outputs": [],
   "source": [
    "# 遍历的思路\n",
    "def serialize(root):\n",
    "    res = []\n",
    "    traverse(root)\n",
    "    def traverse(root):\n",
    "        if not root:\n",
    "            res.append(\"#\")\n",
    "            return\n",
    "        res.append(str(root.val))\n",
    "        traverse(root.left)\n",
    "        traverse(root.right)\n",
    "    return \",\".join(res)\n",
    "        \n",
    "\n",
    "def deserialize(data):\n",
    "    data_list = data.split(\",\")\n",
    "    \n",
    "    def detraverse(d):\n",
    "        if not d:\n",
    "            return None\n",
    "        first = d.pop(0)\n",
    "        if first == '#':\n",
    "            return None\n",
    "        root =  TreeNode(int(first))\n",
    "        root.left = detraverse(d)\n",
    "        root.right = detraverse(d)\n",
    "        return root\n",
    "    \n",
    "    return detraverse(data_list)"
   ]
  },
  {
   "cell_type": "code",
   "execution_count": null,
   "metadata": {},
   "outputs": [],
   "source": [
    "# 序列化还可以分解的思路\n",
    "def serialize(root):\n",
    "    if not root:\n",
    "        return '#'\n",
    "    l = serialize(root.left)\n",
    "    r = serialize(root.right)\n",
    "    return str(root.val)  + l + r\n"
   ]
  },
  {
   "cell_type": "code",
   "execution_count": null,
   "metadata": {},
   "outputs": [],
   "source": []
  },
  {
   "cell_type": "markdown",
   "metadata": {},
   "source": [
    "# 二叉搜索树"
   ]
  },
  {
   "cell_type": "markdown",
   "metadata": {},
   "source": [
    "## 寻找第k小的元素"
   ]
  },
  {
   "cell_type": "code",
   "execution_count": null,
   "metadata": {},
   "outputs": [],
   "source": [
    "def kthsmall(root, k):\n",
    "    rank = 0\n",
    "    res = 0\n",
    "    \n",
    "    \n",
    "    def traverse(root, k):\n",
    "        if not root:\n",
    "            return \n",
    "        traverse(root.left, k)\n",
    "        rank += 1\n",
    "        if rank == k:\n",
    "            res = root.val\n",
    "            return\n",
    "        traverse(root.right, k)\n",
    "            \n",
    "    \n",
    "    traverse(root, k)\n",
    "    return res\n",
    "\n",
    "# 另一个思路是重新构造二叉 搜索树，在节点信息中存储rank信息，这样查询的时候就符合二叉搜索树的思路了，效率更优为logN"
   ]
  },
  {
   "cell_type": "markdown",
   "metadata": {},
   "source": [
    "## BST转化为累加树"
   ]
  },
  {
   "cell_type": "code",
   "execution_count": null,
   "metadata": {},
   "outputs": [],
   "source": [
    "# ，使每个节点新值等于原树中大于或等于当前点的值之和\n",
    "# 对一个节点来说，他的右子树都是大于他的，但是他的父节点也可能大于他，所以我们的遍历要有规律，从大到小遍历，这样当前点就能获得所有大于等于他的值\n",
    "# 而二叉搜索树的后序遍历是从大到小的\n",
    "\n",
    "def convertBST(root):\n",
    "    sum_ = 0 # 用于累加\n",
    "    \n",
    "    def traverse(root):\n",
    "        if not root:\n",
    "            return\n",
    "        traverse(root.right)\n",
    "        sum_ += root.val\n",
    "        root.val = sum_\n",
    "        traverse(root.left)\n",
    "    \n",
    "    traverse(root)\n",
    "    return root"
   ]
  },
  {
   "cell_type": "markdown",
   "metadata": {},
   "source": [
    "## 判断二叉搜索树合法性，代码不太懂！！！"
   ]
  },
  {
   "cell_type": "code",
   "execution_count": null,
   "metadata": {},
   "outputs": [],
   "source": [
    "class Solution:  # TODO 不太懂！！！！！\n",
    "    def isValidBST(self, root: Optional[TreeNode]) -> bool:\n",
    "        return self.isvalid(root, None, None)\n",
    "\n",
    "    \n",
    "    def isvalid(self, root, min, max):\n",
    "        if not root:\n",
    "            return True\n",
    "        if min and root.val <= min.val:\n",
    "            return False\n",
    "        if max and root.val >= max.val:\n",
    "            return False\n",
    "        # 限定左子树的最大值是 root.val，右子树的最小值是 root.val\n",
    "        return self.isvalid(root.left, min, root) and self.isvalid(root.right, root, max)"
   ]
  },
  {
   "cell_type": "markdown",
   "metadata": {},
   "source": [
    "## 二叉搜索树中的搜索"
   ]
  },
  {
   "cell_type": "code",
   "execution_count": null,
   "metadata": {},
   "outputs": [],
   "source": [
    "class Solution:\n",
    "    def searchBST(self, root: Optional[TreeNode], val: int) -> Optional[TreeNode]:\n",
    "        if not root:\n",
    "            return None\n",
    "        \n",
    "        if root.val > val:\n",
    "            return self.searchBST(root.left, val)\n",
    "        if root.val < val:\n",
    "            return self.searchBST(root.right, val)\n",
    "        return root"
   ]
  },
  {
   "cell_type": "markdown",
   "metadata": {},
   "source": [
    "## 在BST中插入一个数"
   ]
  },
  {
   "cell_type": "code",
   "execution_count": null,
   "metadata": {},
   "outputs": [],
   "source": [
    "def insertBST(root, val):  # 递归函数定义：在树中找到合适的位置插入节点，并返回新树根节点\n",
    "\t# 找到空位置插入新节点\n",
    "\tif root is None:\n",
    "\t\treturn TreeNode(val)\n",
    "\tif root.val < val:\n",
    "\t\troot.right = insertBST(root.right, val)\n",
    "\tif root.val > val:\n",
    "\t\troot.left = insertBST(root.left, val)\n",
    "\treturn root\n",
    "\n",
    "\n",
    "# 首先要知道，插入一个新的数都会在树的叶子节点之后，也是能符合BST的，不是要某两个节点之间，所以不需要考虑拼接的问题"
   ]
  },
  {
   "cell_type": "markdown",
   "metadata": {},
   "source": [
    "## 在BST中删除一个数\n",
    "- 这是难点，按BST的搜索框架能找到位置，但是删除节点的同时不能破坏 BST 的性质。有三种情况"
   ]
  },
  {
   "cell_type": "code",
   "execution_count": null,
   "metadata": {},
   "outputs": [],
   "source": [
    "# 基本框架跟插入操作类似，先「找」再「改」\n",
    "\n",
    "class Solution:\n",
    "    def deleteNode(self, root: Optional[TreeNode], key: int) -> Optional[TreeNode]:\n",
    "        if not root:\n",
    "            return None\n",
    "        if key == root.val:\n",
    "            # 情况1和2：\n",
    "            if not root.left:\n",
    "                return root.right\n",
    "            if not root.right:\n",
    "                return root.left\n",
    "            # 情况3：\n",
    "            minNode = self.getMin(root.right) # 找到右子树的最下节点\n",
    "            root.right = self.deleteNode(root.right, minNode.val) # 删除右子树的最小节点\n",
    "            minNode.left = root.left\n",
    "            minNode.right = root.right\n",
    "            root = minNode\n",
    "        \n",
    "        elif key < root.val:\n",
    "            root.left = self.deleteNode(root.left, key)\n",
    "        elif key > root.val:\n",
    "            root.right = self.deleteNode(root.right, key)\n",
    "        \n",
    "        return root\n",
    "    \n",
    "    def getMin(self, root):\n",
    "        cur = root\n",
    "        while cur.left is not None:\n",
    "            cur = cur.left\n",
    "        return cur"
   ]
  },
  {
   "cell_type": "code",
   "execution_count": null,
   "metadata": {},
   "outputs": [],
   "source": []
  }
 ],
 "metadata": {
  "kernelspec": {
   "display_name": "Python 3.7.8 ('env_normal')",
   "language": "python",
   "name": "python3"
  },
  "language_info": {
   "codemirror_mode": {
    "name": "ipython",
    "version": 3
   },
   "file_extension": ".py",
   "mimetype": "text/x-python",
   "name": "python",
   "nbconvert_exporter": "python",
   "pygments_lexer": "ipython3",
   "version": "3.7.8"
  },
  "orig_nbformat": 4,
  "vscode": {
   "interpreter": {
    "hash": "6c75deaf2e39064387556a08595056e010d4206a8bca4a202181db4642aeabe3"
   }
  }
 },
 "nbformat": 4,
 "nbformat_minor": 2
}
